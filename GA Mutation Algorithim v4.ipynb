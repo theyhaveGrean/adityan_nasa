{
 "cells": [
  {
   "cell_type": "code",
   "execution_count": 258,
   "id": "3ebc21c3",
   "metadata": {},
   "outputs": [],
   "source": [
    "import numpy as np\n",
    "import matplotlib.pyplot as plt\n",
    "import random"
   ]
  },
  {
   "cell_type": "code",
   "execution_count": 259,
   "id": "d1cff443",
   "metadata": {},
   "outputs": [],
   "source": [
    "#ESSENTIAL VARIABLES\n",
    "\n",
    "# set the coordinates in tuple form of the polygon (currently decigon)\n",
    "COORDINATES = [(0,2), (1,1), (2,0), (3,0), (4,1), (5,2), (4,3), (3,4), (2,4), (1,3)]\n",
    "# number of children a parent births per run\n",
    "BIRTH_SIZE = 1000\n",
    "# number of children required to have the fittest distance before the final distance is determined\n",
    "# higher = more accurate, but takes much more time, especially past 200\n",
    "NUM_FITTEST_CHILDREN = 100"
   ]
  },
  {
   "cell_type": "code",
   "execution_count": 260,
   "id": "e42f9ade",
   "metadata": {},
   "outputs": [],
   "source": [
    "%%capture\n",
    "\n",
    "# finds distance covered from index 0 to last index, moving left to right\n",
    "# doesn't return to original index (full circle), stops at last index\n",
    "def find_dist(coords):\n",
    "    # get previous value to compute distance\n",
    "    # here, prev is the first coordinate of the list, but later becomes the i-1 th coordinate\n",
    "    prev = coords[0]\n",
    "    \n",
    "    # distance variable for summation\n",
    "    dist = 0\n",
    "    \n",
    "    # iterate over coordinates, add distances between coordinates to total distance, repeat until done\n",
    "    for i in range(1, len(coords)):\n",
    "        # distance formula: sqrt((x change)^2 + (y change)^2)\n",
    "        temp_dist = np.sqrt(( np.square(( prev[0] - coords[i][0] )) + np.square( prev[1] - coords[i][1] )))\n",
    "        \n",
    "        dist += temp_dist\n",
    "        prev = coords[i]\n",
    "        \n",
    "    # return distance covered float\n",
    "    return dist\n",
    "\n",
    "# switch two coordinates at random in the list\n",
    "# in the future, should specify how many swap mutations should occur. for now, it's just 1.\n",
    "def mutate(child):\n",
    "    # create copy to prevent accidental modifications\n",
    "    temp_child = child.copy()\n",
    "    \n",
    "    # create random indices to swap\n",
    "    indices = []\n",
    "    for i in range(2):\n",
    "        indices.append(random.randint(1, len(temp_child) - 1))\n",
    "    \n",
    "    # swap the two coordinates\n",
    "    temp_gene = temp_child[indices[0]]\n",
    "    temp_child[indices[0]] = temp_child[indices[1]]\n",
    "    temp_child[indices[1]] = temp_gene\n",
    "    \n",
    "    # return the list with the swapped coordinates\n",
    "    return temp_child\n",
    "\n",
    "# create size number of mutated children, based on the parent\n",
    "def reproduce(parent, pop_size):\n",
    "    children = []\n",
    "\n",
    "    for i in range(pop_size):\n",
    "        children.append(mutate(parent))\n",
    "    \n",
    "    return children\n",
    "    \n",
    "# choose best child from the population\n",
    "def select(children):\n",
    "    # find best performing child byu\n",
    "    lowest = find_dist(children[0])\n",
    "    fittest_child = children[0]\n",
    "    \n",
    "    for i in range(1, len(children) - 1):\n",
    "        child_distance = find_dist(children[i])\n",
    "        \n",
    "        if child_distance < lowest:\n",
    "            lowest = child_distance\n",
    "            fittest_child = children[i]\n",
    "            \n",
    "    return fittest_child"
   ]
  },
  {
   "cell_type": "code",
   "execution_count": 261,
   "id": "feda3707",
   "metadata": {
    "scrolled": false
   },
   "outputs": [],
   "source": [
    "# shuffle the points, and insert the starting point into the beginning\n",
    "# note: the starting point will never be \"mutated,\" it will always remain at the first index\n",
    "original_parent = COORDINATES[1:]\n",
    "random.shuffle(original_parent)\n",
    "original_parent.insert(0, COORDINATES[0])\n",
    "\n",
    "# set the fittest parent equal to the original parent initially\n",
    "fittest_child = original_parent\n",
    "\n",
    "# set the last parent equal to the original parent initially\n",
    "last_parent = fittest_child\n",
    "\n",
    "parent_dist = 1000000\n",
    "count = 0\n",
    "\n",
    "# run until the \"best\" distance is found count times, to ensure the children really are close to the fittest\n",
    "fittest_found = False\n",
    "while not fittest_found:\n",
    "    # create children based off the mother with a birth size of BIRTH_SIZE\n",
    "    members = reproduce(last_parent, BIRTH_SIZE)\n",
    "    \n",
    "    # choose the fittest child, which becomes the parent of the next generation\n",
    "    fittest_child = select(members)\n",
    "    \n",
    "    # find the distance traveled of the fittest child\n",
    "    child_dist = find_dist(fittest_child)\n",
    "    \n",
    "    # if the child is fitter than the parent, replace the parent with the child\n",
    "    if child_dist < parent_dist:\n",
    "        # reset the number of children that had the same fittest distance\n",
    "        count = 0\n",
    "        \n",
    "        # replace parent with child\n",
    "        parent_dist = child_dist\n",
    "        last_parent = fittest_child\n",
    "    \n",
    "    # add one to the count if the child's fitness matches the parent\n",
    "    elif child_dist == parent_dist:\n",
    "        count += 1\n",
    "        if count >= NUM_FITTEST_CHILDREN:\n",
    "            fittest_found = True"
   ]
  },
  {
   "cell_type": "code",
   "execution_count": 267,
   "id": "6ea3b64b",
   "metadata": {},
   "outputs": [
    {
     "name": "stdout",
     "output_type": "stream",
     "text": [
      "Start Point:(0, 2)\n",
      "\n",
      "GA's best sequence of points:[(0, 2), (1, 3), (2, 4), (3, 4), (4, 3), (5, 2), (4, 1), (3, 0), (2, 0), (1, 1)]\n",
      "GA's best distance: 11.899494936611667\n",
      "\n",
      "Original sequence of points:[(0, 2), (1, 3), (2, 4), (4, 1), (3, 4), (4, 3), (2, 0), (5, 2), (1, 1), (3, 0)]\n",
      "Original distance: 24.580745776797084\n",
      "\n",
      "Percent Improvement:51.59017938404392%\n"
     ]
    },
    {
     "data": {
      "image/png": "[encoded data removed]",
      "text/plain": [
       "<Figure size 432x288 with 1 Axes>"
      ]
     },
     "metadata": {
      "needs_background": "light"
     },
     "output_type": "display_data"
    },
    {
     "data": {
      "image/png": "[encoded data removed]",
      "text/plain": [
       "<Figure size 432x288 with 1 Axes>"
      ]
     },
     "metadata": {
      "needs_background": "light"
     },
     "output_type": "display_data"
    }
   ],
   "source": [
    "# OUTPUT FINAL DATA\n",
    "\n",
    "# information about old sequence of coordinates, then GA's sequence\n",
    "print(\"Start Point:\" + str(original_parent[0]) + \"\\n\")\n",
    "\n",
    "print(\"GA's best sequence of points:\" + str(last_parent))\n",
    "print(\"GA's best distance: \" + str(find_dist(last_parent)) + \"\\n\")\n",
    "\n",
    "print(\"Original sequence of points:\" + str(original_parent))\n",
    "print(\"Original distance: \" + str(find_dist(original_parent)) + \"\\n\")\n",
    "\n",
    "pct_change = ( find_dist(original_parent) - find_dist(last_parent) )/ find_dist(original_parent) * 100\n",
    "print(\"Percent Improvement:\" + str(pct_change) + \"%\")\n",
    "\n",
    "# charts of old sequence vs GA's sequence\n",
    "x, y = np.array(original_parent).T\n",
    "x_path, y_path = np.array(last_parent).T\n",
    "\n",
    "plt.title(\"Original Path\")\n",
    "plt.plot(x, y, \"bd\")\n",
    "plt.plot(x, y, \"r\")\n",
    "plt.grid()\n",
    "plt.show()\n",
    "\n",
    "plt.title(\"GA's Path\")\n",
    "plt.plot(x_path, y_path, \"bd\")\n",
    "plt.plot(x_path, y_path, \"g\")\n",
    "plt.grid()\n",
    "plt.show()"
   ]
  },
  {
   "cell_type": "code",
   "execution_count": null,
   "id": "d53bcd11",
   "metadata": {},
   "outputs": [],
   "source": []
  },
  {
   "cell_type": "code",
   "execution_count": null,
   "id": "4167e15f",
   "metadata": {},
   "outputs": [],
   "source": []
  }
 ],
 "metadata": {
  "kernelspec": {
   "display_name": "Python 3 (ipykernel)",
   "language": "python",
   "name": "python3"
  },
  "language_info": {
   "codemirror_mode": {
    "name": "ipython",
    "version": 3
   },
   "file_extension": ".py",
   "mimetype": "text/x-python",
   "name": "python",
   "nbconvert_exporter": "python",
   "pygments_lexer": "ipython3",
   "version": "3.9.12"
  }
 },
 "nbformat": 4,
 "nbformat_minor": 5
}
