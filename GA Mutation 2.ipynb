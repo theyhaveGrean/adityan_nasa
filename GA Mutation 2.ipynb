{
 "cells": [
  {
   "cell_type": "code",
   "execution_count": 352,
   "id": "3ebc21c3",
   "metadata": {},
   "outputs": [],
   "source": [
    "import numpy as np\n",
    "import matplotlib.pyplot as plt\n",
    "import random"
   ]
  },
  {
   "cell_type": "code",
   "execution_count": 353,
   "id": "e42f9ade",
   "metadata": {},
   "outputs": [],
   "source": [
    "# finds distance from index 0 to last index, moving left to right\n",
    "def find_dist(coords):\n",
    "    last = coords[0]\n",
    "    dist = 0\n",
    "    \n",
    "    for i in range(1, len(coords)):\n",
    "        temp_dist = np.sqrt(( np.square(( last[0] - coords[i][0] )) + np.square( last[1] - coords[i][1] )))\n",
    "        dist += temp_dist\n",
    "        last = coords[i]\n",
    "    \n",
    "    return dist\n",
    "\n",
    "# switch two objects in the list\n",
    "def mutate(coords):\n",
    "    temp_coords = coords.copy()\n",
    "    index_1 = random.randint(1, len(temp_coords) - 1)\n",
    "    index_2 = random.randint(1, len(temp_coords) - 1)\n",
    "    \n",
    "    temp_coord = temp_coords[index_1]\n",
    "    temp_coords[index_1] = temp_coords[index_2]\n",
    "    temp_coords[index_2] = temp_coord\n",
    "    \n",
    "    print(temp_coords)\n",
    "    return temp_coords\n",
    "\n",
    "# make babies\n",
    "def reproduce(coords, size):\n",
    "    members = []\n",
    "\n",
    "    for i in range(size):\n",
    "        members.append(mutate(coords))\n",
    "    \n",
    "    return members\n",
    "    \n",
    "# choose best baby\n",
    "def select(members):\n",
    "    distances = []\n",
    "    lowest = find_dist(members[0])\n",
    "    index = 0\n",
    "    \n",
    "    for i in range(1, len(members) - 1):\n",
    "        distances.append(find_dist(members[i]))\n",
    "        this_distance = find_dist(members[i])\n",
    "        \n",
    "        if this_distance < lowest:\n",
    "            index = i\n",
    "            lowest = this_distance\n",
    "            \n",
    "    return members[index]"
   ]
  },
  {
   "cell_type": "code",
   "execution_count": 368,
   "id": "feda3707",
   "metadata": {},
   "outputs": [],
   "source": [
    "%%capture\n",
    "\n",
    "# edit this to modify the points\n",
    "coords_lst = [(0,2), (1,1), (3,0), (2,0), (4,1), (5,2), (3,4), (4,3), (2,4), (1,3)]\n",
    "x, y = np.array(coords_lst).T\n",
    "\n",
    "fittest_found = False\n",
    "latest_dist = 1000000\n",
    "count = 0\n",
    "while not fittest_found and count < 3:\n",
    "    # edit the 2nd param to change the offspring one parent produces\n",
    "    members = reproduce(coords_lst, 100)\n",
    "    fittest_parent = select(members)\n",
    "    \n",
    "    temp_dist = find_dist(fittest_parent)\n",
    "    \n",
    "    if temp_dist < latest_dist:\n",
    "        count = 0\n",
    "        latest_dist = temp_dist\n",
    "        last_parent = fittest_parent\n",
    "    \n",
    "    elif temp_dist > latest_dist:\n",
    "        count += 1\n",
    "        fittest_found = True"
   ]
  },
  {
   "cell_type": "code",
   "execution_count": 379,
   "id": "6ea3b64b",
   "metadata": {},
   "outputs": [
    {
     "name": "stdout",
     "output_type": "stream",
     "text": [
      "Start Point:(0, 2)\n",
      "Best sequence of points:[(0, 2), (1, 1), (3, 0), (2, 0), (4, 1), (5, 2), (4, 3), (3, 4), (2, 4), (1, 3)]\n",
      "Best distance:13.543203766865057\n"
     ]
    },
    {
     "data": {
      "image/png": "[encoded data removed]",
      "text/plain": [
       "<Figure size 432x288 with 1 Axes>"
      ]
     },
     "metadata": {
      "needs_background": "light"
     },
     "output_type": "display_data"
    }
   ],
   "source": [
    "print(\"Start Point:\" + str(coords_lst[0]))\n",
    "print(\"Best sequence of points:\" + str(last_parent))\n",
    "print(\"Best distance:\" + str(find_dist(last_parent)))\n",
    "\n",
    "plt.title(\"Points\")\n",
    "plt.plot(x, y, 'rd')\n",
    "plt.grid()\n",
    "plt.show()"
   ]
  },
  {
   "cell_type": "code",
   "execution_count": null,
   "id": "6b136e38",
   "metadata": {},
   "outputs": [],
   "source": []
  },
  {
   "cell_type": "code",
   "execution_count": null,
   "id": "79a62deb",
   "metadata": {},
   "outputs": [],
   "source": []
  },
  {
   "cell_type": "code",
   "execution_count": null,
   "id": "d61a68da",
   "metadata": {},
   "outputs": [],
   "source": []
  }
 ],
 "metadata": {
  "kernelspec": {
   "display_name": "Python 3 (ipykernel)",
   "language": "python",
   "name": "python3"
  },
  "language_info": {
   "codemirror_mode": {
    "name": "ipython",
    "version": 3
   },
   "file_extension": ".py",
   "mimetype": "text/x-python",
   "name": "python",
   "nbconvert_exporter": "python",
   "pygments_lexer": "ipython3",
   "version": "3.9.12"
  }
 },
 "nbformat": 4,
 "nbformat_minor": 5
}
